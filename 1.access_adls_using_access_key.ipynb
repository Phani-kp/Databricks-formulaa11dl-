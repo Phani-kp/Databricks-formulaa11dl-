{
 "cells": [
  {
   "cell_type": "markdown",
   "metadata": {},
   "source": [
    "#### Access Azure Data Lake using Access Keys\n",
    "1. Set the Spark config `fs.azure.account.key`.\n",
    "2. List files from demo container.\n",
    "3. Read data from `circuits.csv` file."
   ]
  },
  {
   "cell_type": "code",
   "execution_count": null,
   "metadata": {},
   "outputs": [],
   "source": [
    "spark.conf.set(\"fs.azure.account.key.formulaa11dl.dfs.core.windows.net\",\n",
    "               \"SZnOTuCzrqIY9/Y7DPhF7JlXyJ6zgBI32bvGE6qUSW9pQrpyiRuv0Mrtx7jUN/gpM1CTvpUo//JD+AStz9/Zuw==\")"
   ]
  },
  {
   "cell_type": "code",
   "execution_count": null,
   "metadata": {},
   "outputs": [],
   "source": [
    "display(dbutils.fs.ls(\"abfss://demo@formulaa11dl.dfs.core.windows.net\"))"
   ]
  },
  {
   "cell_type": "code",
   "execution_count": null,
   "metadata": {},
   "outputs": [],
   "source": [
    "display(spark.read.csv(\"abfss://demo@formulaa11dl.dfs.core.windows.net/circuits.csv\"))"
   ]
  }
 ],
 "metadata": {
  "language_info": {
   "name": "python"
  }
 },
 "nbformat": 4,
 "nbformat_minor": 0
}
``` ▋
